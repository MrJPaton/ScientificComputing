{
 "metadata": {
  "kernelspec": {
   "display_name": "Python 2",
   "language": "python",
   "name": "python2"
  },
  "language_info": {
   "codemirror_mode": {
    "name": "ipython",
    "version": 2
   },
   "file_extension": ".py",
   "mimetype": "text/x-python",
   "name": "python",
   "nbconvert_exporter": "python",
   "pygments_lexer": "ipython2",
   "version": "2.7.11"
  },
  "name": "",
  "signature": "sha256:c14aef5b8da8a7c5a8cd05bb58dcaf79da370548626240110400ccaf23380080"
 },
 "nbformat": 3,
 "nbformat_minor": 0,
 "worksheets": [
  {
   "cells": [
    {
     "cell_type": "markdown",
     "metadata": {},
     "source": [
      "#Lists"
     ]
    },
    {
     "cell_type": "markdown",
     "metadata": {},
     "source": [
      "We often need to store data where it wouldn't make sense to turn it all into a text string. If we need to store lots of different pieces of data then most programming languages provide one or more types of *collections*. In python there are lots of different types of collections, however we will start with the most commonly used collection data structure, the list."
     ]
    },
    {
     "cell_type": "code",
     "collapsed": false,
     "input": [
      "shopping = ['eggs', 'bread', 'milk']"
     ],
     "language": "python",
     "metadata": {},
     "outputs": []
    },
    {
     "cell_type": "markdown",
     "metadata": {},
     "source": [
      "A list is made up of an ordered sequence of elements."
     ]
    },
    {
     "cell_type": "code",
     "collapsed": false,
     "input": [
      "print shopping"
     ],
     "language": "python",
     "metadata": {},
     "outputs": []
    },
    {
     "cell_type": "markdown",
     "metadata": {},
     "source": [
      "We can access the individual list elements by using the list name, followed by square brackets containing the list element number."
     ]
    },
    {
     "cell_type": "code",
     "collapsed": false,
     "input": [
      "print shopping[1]"
     ],
     "language": "python",
     "metadata": {},
     "outputs": []
    },
    {
     "cell_type": "markdown",
     "metadata": {},
     "source": [
      "Why didn't that display 'eggs'?"
     ]
    },
    {
     "cell_type": "code",
     "collapsed": false,
     "input": [
      "print shopping[0]"
     ],
     "language": "python",
     "metadata": {},
     "outputs": []
    },
    {
     "cell_type": "markdown",
     "metadata": {},
     "source": [
      "In python, and many other programming languages, counting starts at zero. You can think of it like a building. A building has its floors numbered ground, 1, 2, *etc.* where ground really means 0. Really, the numbering means *floors above ground*. Much like our counting method means *numbers away from zero*."
     ]
    },
    {
     "cell_type": "code",
     "collapsed": false,
     "input": [
      "print shopping[0]\n",
      "print shopping[1]\n",
      "print shopping[2]\n",
      "print shopping[3]"
     ],
     "language": "python",
     "metadata": {},
     "outputs": []
    },
    {
     "cell_type": "markdown",
     "metadata": {},
     "source": [
      "We get an IndexError, because there are only 3 elements in our list."
     ]
    },
    {
     "cell_type": "code",
     "collapsed": false,
     "input": [
      "shopping.append('butter')\n",
      "print shopping[0]\n",
      "print shopping[1]\n",
      "print shopping[2]\n",
      "print shopping[3]"
     ],
     "language": "python",
     "metadata": {},
     "outputs": []
    },
    {
     "cell_type": "code",
     "collapsed": false,
     "input": [
      "del(shopping[1])\n",
      "print shopping"
     ],
     "language": "python",
     "metadata": {},
     "outputs": []
    },
    {
     "cell_type": "markdown",
     "metadata": {},
     "source": [
      "##Index Slicing"
     ]
    },
    {
     "cell_type": "markdown",
     "metadata": {},
     "source": [
      "There are more interesting things that we can do using a special index syntax. This is called index slicing."
     ]
    },
    {
     "cell_type": "code",
     "collapsed": false,
     "input": [
      "print shopping[-1]\n",
      "print shopping[-2]\n",
      "print shopping[-3]"
     ],
     "language": "python",
     "metadata": {},
     "outputs": []
    },
    {
     "cell_type": "code",
     "collapsed": false,
     "input": [
      "shopping = ['bread', 'sugar', 'eggs', 'milk', 'butter', 'flour', 'cheese', 'chocolate']"
     ],
     "language": "python",
     "metadata": {},
     "outputs": []
    },
    {
     "cell_type": "code",
     "collapsed": false,
     "input": [],
     "language": "python",
     "metadata": {},
     "outputs": []
    },
    {
     "cell_type": "markdown",
     "metadata": {},
     "source": [
      "What will each of the following display?"
     ]
    },
    {
     "cell_type": "code",
     "collapsed": false,
     "input": [
      "print shopping[:3]\n",
      "print shopping[3:]\n",
      "print shopping[3:7]\n",
      "print shopping[::2]\n",
      "print shopping[2:7:2]\n",
      "print shopping[::-1]"
     ],
     "language": "python",
     "metadata": {},
     "outputs": []
    },
    {
     "cell_type": "heading",
     "level": 1,
     "metadata": {},
     "source": [
      "Loops"
     ]
    },
    {
     "cell_type": "markdown",
     "metadata": {},
     "source": [
      "It is often needed to do a task (or a very similar task) many times. This is achieved in programming with *loops*. In python there are two kinds of loop which have very different use cases."
     ]
    },
    {
     "cell_type": "heading",
     "level": 2,
     "metadata": {},
     "source": [
      "While Loops"
     ]
    },
    {
     "cell_type": "markdown",
     "metadata": {},
     "source": [
      "A while loop checks a condition. If the condition is evaluated as True, then the task defined in the while loop block runs. If it is evaluated as False, then the loop ends and the program moves down to the next line after the while loop block."
     ]
    },
    {
     "cell_type": "code",
     "collapsed": false,
     "input": [
      "n = 0\n",
      "while n < 5:\n",
      "    print n\n",
      "    n += 1"
     ],
     "language": "python",
     "metadata": {},
     "outputs": []
    },
    {
     "cell_type": "markdown",
     "metadata": {},
     "source": [
      "In the above cell, we define a counting variable, n, whose purpose is to count the number of times the loop has run. The condition then refers to this to end the loop, but it doesn't have to. "
     ]
    },
    {
     "cell_type": "code",
     "collapsed": false,
     "input": [
      "n = 0\n",
      "a = ''\n",
      "while a != 'fish':\n",
      "    a = raw_input('Enter password\\t>>>')\n",
      "    n += 1\n",
      "    print \"{} attempts\".format(n)\n",
      "print \"\\nEntry granted!\""
     ],
     "language": "python",
     "metadata": {},
     "outputs": []
    },
    {
     "cell_type": "code",
     "collapsed": false,
     "input": [
      "square_numbers = [1, 4, 9, 16, 25]\n",
      "n = 0\n",
      "end_n = len(square_numbers)\n",
      "while n < end_n:\n",
      "    print square_numbers[n]\n",
      "    n += 1"
     ],
     "language": "python",
     "metadata": {},
     "outputs": []
    },
    {
     "cell_type": "heading",
     "level": 2,
     "metadata": {},
     "source": [
      "For Loops"
     ]
    },
    {
     "cell_type": "markdown",
     "metadata": {},
     "source": [
      "For loops are used for *iterating* over a sequence of items. In the above example we used the counting variable, n, as a list index to directly access each list element. Instead, with a for loop we can directly iterate over the list."
     ]
    },
    {
     "cell_type": "code",
     "collapsed": false,
     "input": [
      "square_numbers = [1, 4, 9, 16, 25]\n",
      "for square in square_numbers:\n",
      "    print square"
     ],
     "language": "python",
     "metadata": {},
     "outputs": []
    },
    {
     "cell_type": "markdown",
     "metadata": {},
     "source": [
      "The name of the variable after **for** does not matter, it is just the variable name that references each item on each loop pass."
     ]
    },
    {
     "cell_type": "code",
     "collapsed": false,
     "input": [
      "square_numbers = [1, 4, 9, 16, 25]\n",
      "for fish in square_numbers:\n",
      "    print fish"
     ],
     "language": "python",
     "metadata": {},
     "outputs": []
    },
    {
     "cell_type": "markdown",
     "metadata": {},
     "source": [
      "So in general a for loop looks like,"
     ]
    },
    {
     "cell_type": "code",
     "collapsed": false,
     "input": [
      "sequence = [2, 3, 5, 7, 11, 13, 17, 19]\n",
      "for item in sequence:\n",
      "    print item"
     ],
     "language": "python",
     "metadata": {},
     "outputs": []
    },
    {
     "cell_type": "markdown",
     "metadata": {},
     "source": [
      "Sometimes you want to be able to access the element index as well, for this purpose you should still use a for loop, but you can define an extra variable name to be the index."
     ]
    },
    {
     "cell_type": "code",
     "collapsed": false,
     "input": [
      "primes = [2, 3, 5, 7, 11, 13, 17, 19]\n",
      "for i, prime in enumerate(primes):\n",
      "    print \"The {}th prime is {}.\".format(i, prime)"
     ],
     "language": "python",
     "metadata": {},
     "outputs": []
    }
   ],
   "metadata": {}
  }
 ]
}