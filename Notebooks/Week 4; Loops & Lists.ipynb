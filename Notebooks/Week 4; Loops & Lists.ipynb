{
 "cells": [
  {
   "cell_type": "markdown",
   "metadata": {},
   "source": [
    "# Loops"
   ]
  },
  {
   "cell_type": "markdown",
   "metadata": {},
   "source": [
    "It is often needed to do a task (or a very similar task) many times. This is achieved in programming with *loops*. In python there are two kinds of loop which have very different use cases."
   ]
  },
  {
   "cell_type": "markdown",
   "metadata": {},
   "source": [
    "## While Loops"
   ]
  },
  {
   "cell_type": "markdown",
   "metadata": {},
   "source": [
    "A while loop checks a condition. If the condition is evaluated as True, then the task defined in the while loop block runs. If it is evaluated as False, then the loop ends and the program moves down to the next line after the while loop block."
   ]
  },
  {
   "cell_type": "code",
   "execution_count": null,
   "metadata": {
    "collapsed": false
   },
   "outputs": [],
   "source": [
    "n = 0\n",
    "while n < 5:\n",
    "    print n\n",
    "    n += 1"
   ]
  },
  {
   "cell_type": "markdown",
   "metadata": {},
   "source": [
    "In the above cell, we define a counting variable, n, whose purpose is to count the number of times the loop has run. The condition then refers to this to end the loop, but it doesn't have to. "
   ]
  },
  {
   "cell_type": "code",
   "execution_count": null,
   "metadata": {
    "collapsed": false
   },
   "outputs": [],
   "source": [
    "n = 0\n",
    "a = ''\n",
    "while a != 'fish':\n",
    "    a = raw_input('Enter password\\t>>>')\n",
    "    n += 1\n",
    "    print \"{} attempts\".format(n)\n",
    "print \"\\nEntry granted!\""
   ]
  },
  {
   "cell_type": "code",
   "execution_count": null,
   "metadata": {
    "collapsed": false
   },
   "outputs": [],
   "source": [
    "square_numbers = [1, 4, 9, 16, 25]\n",
    "n = 0\n",
    "end_n = len(square_numbers)\n",
    "while n < end_n:\n",
    "    print square_numbers[n]\n",
    "    n += 1"
   ]
  },
  {
   "cell_type": "markdown",
   "metadata": {},
   "source": [
    "## For Loops"
   ]
  },
  {
   "cell_type": "markdown",
   "metadata": {},
   "source": [
    "For loops are used for *iterating* over a sequence of items. In the above example we used the counting variable, n, as a list index to directly access each list element. Instead, with a for loop we can directly iterate over the list."
   ]
  },
  {
   "cell_type": "code",
   "execution_count": null,
   "metadata": {
    "collapsed": false
   },
   "outputs": [],
   "source": [
    "square_numbers = [1, 4, 9, 16, 25]\n",
    "for square in square_numbers:\n",
    "    print square"
   ]
  },
  {
   "cell_type": "markdown",
   "metadata": {},
   "source": [
    "The name of the variable after **for** does not matter, it is just the variable name that references each item on each loop pass."
   ]
  },
  {
   "cell_type": "code",
   "execution_count": null,
   "metadata": {
    "collapsed": false
   },
   "outputs": [],
   "source": [
    "square_numbers = [1, 4, 9, 16, 25]\n",
    "for fish in square_numbers:\n",
    "    print fish"
   ]
  },
  {
   "cell_type": "markdown",
   "metadata": {},
   "source": [
    "So in general a for loop looks like,"
   ]
  },
  {
   "cell_type": "code",
   "execution_count": null,
   "metadata": {
    "collapsed": false
   },
   "outputs": [],
   "source": [
    "sequence = [2, 3, 5, 7, 11, 13, 17, 19]\n",
    "for item in sequence:\n",
    "    print item"
   ]
  },
  {
   "cell_type": "markdown",
   "metadata": {},
   "source": [
    "Sometimes you want to be able to access the element index as well, for this purpose you should still use a for loop, but you can define an extra variable name to be the index."
   ]
  },
  {
   "cell_type": "code",
   "execution_count": 12,
   "metadata": {
    "collapsed": false
   },
   "outputs": [
    {
     "name": "stdout",
     "output_type": "stream",
     "text": [
      "The 0th prime is 2.\n",
      "The 1th prime is 3.\n",
      "The 2th prime is 5.\n",
      "The 3th prime is 7.\n",
      "The 4th prime is 11.\n",
      "The 5th prime is 13.\n",
      "The 6th prime is 17.\n",
      "The 7th prime is 19.\n"
     ]
    }
   ],
   "source": [
    "primes = [2, 3, 5, 7, 11, 13, 17, 19]\n",
    "for i, prime in enumerate(primes):\n",
    "    print \"The {}th prime is {}.\".format(i, prime)"
   ]
  },
  {
   "cell_type": "code",
   "execution_count": null,
   "metadata": {
    "collapsed": true
   },
   "outputs": [],
   "source": []
  }
 ],
 "metadata": {
  "kernelspec": {
   "display_name": "Python 2",
   "language": "python",
   "name": "python2"
  },
  "language_info": {
   "codemirror_mode": {
    "name": "ipython",
    "version": 2
   },
   "file_extension": ".py",
   "mimetype": "text/x-python",
   "name": "python",
   "nbconvert_exporter": "python",
   "pygments_lexer": "ipython2",
   "version": "2.7.11"
  }
 },
 "nbformat": 4,
 "nbformat_minor": 0
}
